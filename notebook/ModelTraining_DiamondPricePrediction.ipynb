{
  "cells": [
    {
      "cell_type": "code",
      "execution_count": 1,
      "metadata": {
        "id": "D10fDd7RNCtU"
      },
      "outputs": [],
      "source": [
        "#Importing required libraries\n",
        "import numpy as np\n",
        "import pandas as pd\n",
        "from sklearn.impute import SimpleImputer #Handling missing values\n",
        "from sklearn.preprocessing import StandardScaler #Handling features scaling\n",
        "from sklearn.preprocessing import OrdinalEncoder #Ordinal Encoding \n",
        "from sklearn.pipeline import Pipeline\n",
        "from sklearn.compose import ColumnTransformer\n",
        "import warnings\n",
        "warnings.filterwarnings('ignore')"
      ]
    },
    {
      "cell_type": "code",
      "execution_count": 2,
      "metadata": {
        "id": "rYfT0_InNFbk"
      },
      "outputs": [],
      "source": [
        "df = pd.read_csv('dataset/gemstone.csv')"
      ]
    },
    {
      "cell_type": "code",
      "execution_count": 3,
      "metadata": {
        "colab": {
          "base_uri": "https://localhost:8080/",
          "height": 206
        },
        "id": "XlLr9xMeNFdk",
        "outputId": "ff6d871a-4008-4e32-cdbe-5f55e56ee9a8"
      },
      "outputs": [
        {
          "data": {
            "text/html": [
              "<div>\n",
              "<style scoped>\n",
              "    .dataframe tbody tr th:only-of-type {\n",
              "        vertical-align: middle;\n",
              "    }\n",
              "\n",
              "    .dataframe tbody tr th {\n",
              "        vertical-align: top;\n",
              "    }\n",
              "\n",
              "    .dataframe thead th {\n",
              "        text-align: right;\n",
              "    }\n",
              "</style>\n",
              "<table border=\"1\" class=\"dataframe\">\n",
              "  <thead>\n",
              "    <tr style=\"text-align: right;\">\n",
              "      <th></th>\n",
              "      <th>id</th>\n",
              "      <th>carat</th>\n",
              "      <th>cut</th>\n",
              "      <th>color</th>\n",
              "      <th>clarity</th>\n",
              "      <th>depth</th>\n",
              "      <th>table</th>\n",
              "      <th>x</th>\n",
              "      <th>y</th>\n",
              "      <th>z</th>\n",
              "      <th>price</th>\n",
              "    </tr>\n",
              "  </thead>\n",
              "  <tbody>\n",
              "    <tr>\n",
              "      <th>0</th>\n",
              "      <td>0</td>\n",
              "      <td>1.52</td>\n",
              "      <td>Premium</td>\n",
              "      <td>F</td>\n",
              "      <td>VS2</td>\n",
              "      <td>62.2</td>\n",
              "      <td>58.0</td>\n",
              "      <td>7.27</td>\n",
              "      <td>7.33</td>\n",
              "      <td>4.55</td>\n",
              "      <td>13619</td>\n",
              "    </tr>\n",
              "    <tr>\n",
              "      <th>1</th>\n",
              "      <td>1</td>\n",
              "      <td>2.03</td>\n",
              "      <td>Very Good</td>\n",
              "      <td>J</td>\n",
              "      <td>SI2</td>\n",
              "      <td>62.0</td>\n",
              "      <td>58.0</td>\n",
              "      <td>8.06</td>\n",
              "      <td>8.12</td>\n",
              "      <td>5.05</td>\n",
              "      <td>13387</td>\n",
              "    </tr>\n",
              "    <tr>\n",
              "      <th>2</th>\n",
              "      <td>2</td>\n",
              "      <td>0.70</td>\n",
              "      <td>Ideal</td>\n",
              "      <td>G</td>\n",
              "      <td>VS1</td>\n",
              "      <td>61.2</td>\n",
              "      <td>57.0</td>\n",
              "      <td>5.69</td>\n",
              "      <td>5.73</td>\n",
              "      <td>3.50</td>\n",
              "      <td>2772</td>\n",
              "    </tr>\n",
              "    <tr>\n",
              "      <th>3</th>\n",
              "      <td>3</td>\n",
              "      <td>0.32</td>\n",
              "      <td>Ideal</td>\n",
              "      <td>G</td>\n",
              "      <td>VS1</td>\n",
              "      <td>61.6</td>\n",
              "      <td>56.0</td>\n",
              "      <td>4.38</td>\n",
              "      <td>4.41</td>\n",
              "      <td>2.71</td>\n",
              "      <td>666</td>\n",
              "    </tr>\n",
              "    <tr>\n",
              "      <th>4</th>\n",
              "      <td>4</td>\n",
              "      <td>1.70</td>\n",
              "      <td>Premium</td>\n",
              "      <td>G</td>\n",
              "      <td>VS2</td>\n",
              "      <td>62.6</td>\n",
              "      <td>59.0</td>\n",
              "      <td>7.65</td>\n",
              "      <td>7.61</td>\n",
              "      <td>4.77</td>\n",
              "      <td>14453</td>\n",
              "    </tr>\n",
              "  </tbody>\n",
              "</table>\n",
              "</div>"
            ],
            "text/plain": [
              "   id  carat        cut color clarity  depth  table     x     y     z  price\n",
              "0   0   1.52    Premium     F     VS2   62.2   58.0  7.27  7.33  4.55  13619\n",
              "1   1   2.03  Very Good     J     SI2   62.0   58.0  8.06  8.12  5.05  13387\n",
              "2   2   0.70      Ideal     G     VS1   61.2   57.0  5.69  5.73  3.50   2772\n",
              "3   3   0.32      Ideal     G     VS1   61.6   56.0  4.38  4.41  2.71    666\n",
              "4   4   1.70    Premium     G     VS2   62.6   59.0  7.65  7.61  4.77  14453"
            ]
          },
          "execution_count": 3,
          "metadata": {},
          "output_type": "execute_result"
        }
      ],
      "source": [
        "#Top 5 records of dataset\n",
        "df.head()"
      ]
    },
    {
      "cell_type": "code",
      "execution_count": 4,
      "metadata": {
        "colab": {
          "base_uri": "https://localhost:8080/"
        },
        "id": "o934Ilw5NFfy",
        "outputId": "d341012b-d2cd-41a0-e670-af3f8c933e8b"
      },
      "outputs": [
        {
          "data": {
            "text/plain": [
              "(193573, 11)"
            ]
          },
          "execution_count": 4,
          "metadata": {},
          "output_type": "execute_result"
        }
      ],
      "source": [
        "#Shape of dataset\n",
        "df.shape"
      ]
    },
    {
      "cell_type": "code",
      "execution_count": 5,
      "metadata": {
        "colab": {
          "base_uri": "https://localhost:8080/"
        },
        "id": "Hw28O4IYNFi3",
        "outputId": "c4dcbf74-6283-4f68-83dd-bfd6730474c5"
      },
      "outputs": [
        {
          "data": {
            "text/plain": [
              "Index(['id', 'carat', 'cut', 'color', 'clarity', 'depth', 'table', 'x', 'y',\n",
              "       'z', 'price'],\n",
              "      dtype='object')"
            ]
          },
          "execution_count": 5,
          "metadata": {},
          "output_type": "execute_result"
        }
      ],
      "source": [
        "#Columns of dataset\n",
        "df.columns"
      ]
    },
    {
      "cell_type": "code",
      "execution_count": 6,
      "metadata": {
        "id": "_oymuiyeNFmY"
      },
      "outputs": [],
      "source": [
        "#Dropping 'id' column from dataset which is not usefull\n",
        "df.drop('id', axis = 1, inplace= True)"
      ]
    },
    {
      "cell_type": "code",
      "execution_count": 7,
      "metadata": {
        "colab": {
          "base_uri": "https://localhost:8080/",
          "height": 206
        },
        "id": "wR9OJFkVNFpQ",
        "outputId": "47ef6593-5531-40dd-fb4a-95495b0b91a9"
      },
      "outputs": [
        {
          "data": {
            "text/html": [
              "<div>\n",
              "<style scoped>\n",
              "    .dataframe tbody tr th:only-of-type {\n",
              "        vertical-align: middle;\n",
              "    }\n",
              "\n",
              "    .dataframe tbody tr th {\n",
              "        vertical-align: top;\n",
              "    }\n",
              "\n",
              "    .dataframe thead th {\n",
              "        text-align: right;\n",
              "    }\n",
              "</style>\n",
              "<table border=\"1\" class=\"dataframe\">\n",
              "  <thead>\n",
              "    <tr style=\"text-align: right;\">\n",
              "      <th></th>\n",
              "      <th>carat</th>\n",
              "      <th>cut</th>\n",
              "      <th>color</th>\n",
              "      <th>clarity</th>\n",
              "      <th>depth</th>\n",
              "      <th>table</th>\n",
              "      <th>x</th>\n",
              "      <th>y</th>\n",
              "      <th>z</th>\n",
              "      <th>price</th>\n",
              "    </tr>\n",
              "  </thead>\n",
              "  <tbody>\n",
              "    <tr>\n",
              "      <th>0</th>\n",
              "      <td>1.52</td>\n",
              "      <td>Premium</td>\n",
              "      <td>F</td>\n",
              "      <td>VS2</td>\n",
              "      <td>62.2</td>\n",
              "      <td>58.0</td>\n",
              "      <td>7.27</td>\n",
              "      <td>7.33</td>\n",
              "      <td>4.55</td>\n",
              "      <td>13619</td>\n",
              "    </tr>\n",
              "    <tr>\n",
              "      <th>1</th>\n",
              "      <td>2.03</td>\n",
              "      <td>Very Good</td>\n",
              "      <td>J</td>\n",
              "      <td>SI2</td>\n",
              "      <td>62.0</td>\n",
              "      <td>58.0</td>\n",
              "      <td>8.06</td>\n",
              "      <td>8.12</td>\n",
              "      <td>5.05</td>\n",
              "      <td>13387</td>\n",
              "    </tr>\n",
              "    <tr>\n",
              "      <th>2</th>\n",
              "      <td>0.70</td>\n",
              "      <td>Ideal</td>\n",
              "      <td>G</td>\n",
              "      <td>VS1</td>\n",
              "      <td>61.2</td>\n",
              "      <td>57.0</td>\n",
              "      <td>5.69</td>\n",
              "      <td>5.73</td>\n",
              "      <td>3.50</td>\n",
              "      <td>2772</td>\n",
              "    </tr>\n",
              "    <tr>\n",
              "      <th>3</th>\n",
              "      <td>0.32</td>\n",
              "      <td>Ideal</td>\n",
              "      <td>G</td>\n",
              "      <td>VS1</td>\n",
              "      <td>61.6</td>\n",
              "      <td>56.0</td>\n",
              "      <td>4.38</td>\n",
              "      <td>4.41</td>\n",
              "      <td>2.71</td>\n",
              "      <td>666</td>\n",
              "    </tr>\n",
              "    <tr>\n",
              "      <th>4</th>\n",
              "      <td>1.70</td>\n",
              "      <td>Premium</td>\n",
              "      <td>G</td>\n",
              "      <td>VS2</td>\n",
              "      <td>62.6</td>\n",
              "      <td>59.0</td>\n",
              "      <td>7.65</td>\n",
              "      <td>7.61</td>\n",
              "      <td>4.77</td>\n",
              "      <td>14453</td>\n",
              "    </tr>\n",
              "  </tbody>\n",
              "</table>\n",
              "</div>"
            ],
            "text/plain": [
              "   carat        cut color clarity  depth  table     x     y     z  price\n",
              "0   1.52    Premium     F     VS2   62.2   58.0  7.27  7.33  4.55  13619\n",
              "1   2.03  Very Good     J     SI2   62.0   58.0  8.06  8.12  5.05  13387\n",
              "2   0.70      Ideal     G     VS1   61.2   57.0  5.69  5.73  3.50   2772\n",
              "3   0.32      Ideal     G     VS1   61.6   56.0  4.38  4.41  2.71    666\n",
              "4   1.70    Premium     G     VS2   62.6   59.0  7.65  7.61  4.77  14453"
            ]
          },
          "execution_count": 7,
          "metadata": {},
          "output_type": "execute_result"
        }
      ],
      "source": [
        "df.head()"
      ]
    },
    {
      "cell_type": "code",
      "execution_count": 8,
      "metadata": {
        "id": "BmZIZmlCNFts"
      },
      "outputs": [],
      "source": [
        "#Independent and Dependent Variables\n",
        "X= df.drop('price', axis = 1)\n",
        "y= df[['price']]"
      ]
    },
    {
      "cell_type": "code",
      "execution_count": 9,
      "metadata": {
        "colab": {
          "base_uri": "https://localhost:8080/",
          "height": 206
        },
        "id": "Asv6lyM0NFyp",
        "outputId": "64dc3681-86d8-48f9-ab76-03cdff4ce7dd"
      },
      "outputs": [
        {
          "data": {
            "text/html": [
              "<div>\n",
              "<style scoped>\n",
              "    .dataframe tbody tr th:only-of-type {\n",
              "        vertical-align: middle;\n",
              "    }\n",
              "\n",
              "    .dataframe tbody tr th {\n",
              "        vertical-align: top;\n",
              "    }\n",
              "\n",
              "    .dataframe thead th {\n",
              "        text-align: right;\n",
              "    }\n",
              "</style>\n",
              "<table border=\"1\" class=\"dataframe\">\n",
              "  <thead>\n",
              "    <tr style=\"text-align: right;\">\n",
              "      <th></th>\n",
              "      <th>carat</th>\n",
              "      <th>cut</th>\n",
              "      <th>color</th>\n",
              "      <th>clarity</th>\n",
              "      <th>depth</th>\n",
              "      <th>table</th>\n",
              "      <th>x</th>\n",
              "      <th>y</th>\n",
              "      <th>z</th>\n",
              "    </tr>\n",
              "  </thead>\n",
              "  <tbody>\n",
              "    <tr>\n",
              "      <th>0</th>\n",
              "      <td>1.52</td>\n",
              "      <td>Premium</td>\n",
              "      <td>F</td>\n",
              "      <td>VS2</td>\n",
              "      <td>62.2</td>\n",
              "      <td>58.0</td>\n",
              "      <td>7.27</td>\n",
              "      <td>7.33</td>\n",
              "      <td>4.55</td>\n",
              "    </tr>\n",
              "    <tr>\n",
              "      <th>1</th>\n",
              "      <td>2.03</td>\n",
              "      <td>Very Good</td>\n",
              "      <td>J</td>\n",
              "      <td>SI2</td>\n",
              "      <td>62.0</td>\n",
              "      <td>58.0</td>\n",
              "      <td>8.06</td>\n",
              "      <td>8.12</td>\n",
              "      <td>5.05</td>\n",
              "    </tr>\n",
              "    <tr>\n",
              "      <th>2</th>\n",
              "      <td>0.70</td>\n",
              "      <td>Ideal</td>\n",
              "      <td>G</td>\n",
              "      <td>VS1</td>\n",
              "      <td>61.2</td>\n",
              "      <td>57.0</td>\n",
              "      <td>5.69</td>\n",
              "      <td>5.73</td>\n",
              "      <td>3.50</td>\n",
              "    </tr>\n",
              "    <tr>\n",
              "      <th>3</th>\n",
              "      <td>0.32</td>\n",
              "      <td>Ideal</td>\n",
              "      <td>G</td>\n",
              "      <td>VS1</td>\n",
              "      <td>61.6</td>\n",
              "      <td>56.0</td>\n",
              "      <td>4.38</td>\n",
              "      <td>4.41</td>\n",
              "      <td>2.71</td>\n",
              "    </tr>\n",
              "    <tr>\n",
              "      <th>4</th>\n",
              "      <td>1.70</td>\n",
              "      <td>Premium</td>\n",
              "      <td>G</td>\n",
              "      <td>VS2</td>\n",
              "      <td>62.6</td>\n",
              "      <td>59.0</td>\n",
              "      <td>7.65</td>\n",
              "      <td>7.61</td>\n",
              "      <td>4.77</td>\n",
              "    </tr>\n",
              "  </tbody>\n",
              "</table>\n",
              "</div>"
            ],
            "text/plain": [
              "   carat        cut color clarity  depth  table     x     y     z\n",
              "0   1.52    Premium     F     VS2   62.2   58.0  7.27  7.33  4.55\n",
              "1   2.03  Very Good     J     SI2   62.0   58.0  8.06  8.12  5.05\n",
              "2   0.70      Ideal     G     VS1   61.2   57.0  5.69  5.73  3.50\n",
              "3   0.32      Ideal     G     VS1   61.6   56.0  4.38  4.41  2.71\n",
              "4   1.70    Premium     G     VS2   62.6   59.0  7.65  7.61  4.77"
            ]
          },
          "execution_count": 9,
          "metadata": {},
          "output_type": "execute_result"
        }
      ],
      "source": [
        "X.head()"
      ]
    },
    {
      "cell_type": "code",
      "execution_count": 10,
      "metadata": {
        "colab": {
          "base_uri": "https://localhost:8080/",
          "height": 206
        },
        "id": "dGzLXIrCNF1a",
        "outputId": "f06e94ea-e4bf-439d-abb6-5afd2c667c44"
      },
      "outputs": [
        {
          "data": {
            "text/html": [
              "<div>\n",
              "<style scoped>\n",
              "    .dataframe tbody tr th:only-of-type {\n",
              "        vertical-align: middle;\n",
              "    }\n",
              "\n",
              "    .dataframe tbody tr th {\n",
              "        vertical-align: top;\n",
              "    }\n",
              "\n",
              "    .dataframe thead th {\n",
              "        text-align: right;\n",
              "    }\n",
              "</style>\n",
              "<table border=\"1\" class=\"dataframe\">\n",
              "  <thead>\n",
              "    <tr style=\"text-align: right;\">\n",
              "      <th></th>\n",
              "      <th>price</th>\n",
              "    </tr>\n",
              "  </thead>\n",
              "  <tbody>\n",
              "    <tr>\n",
              "      <th>0</th>\n",
              "      <td>13619</td>\n",
              "    </tr>\n",
              "    <tr>\n",
              "      <th>1</th>\n",
              "      <td>13387</td>\n",
              "    </tr>\n",
              "    <tr>\n",
              "      <th>2</th>\n",
              "      <td>2772</td>\n",
              "    </tr>\n",
              "    <tr>\n",
              "      <th>3</th>\n",
              "      <td>666</td>\n",
              "    </tr>\n",
              "    <tr>\n",
              "      <th>4</th>\n",
              "      <td>14453</td>\n",
              "    </tr>\n",
              "  </tbody>\n",
              "</table>\n",
              "</div>"
            ],
            "text/plain": [
              "   price\n",
              "0  13619\n",
              "1  13387\n",
              "2   2772\n",
              "3    666\n",
              "4  14453"
            ]
          },
          "execution_count": 10,
          "metadata": {},
          "output_type": "execute_result"
        }
      ],
      "source": [
        "y.head()"
      ]
    },
    {
      "cell_type": "code",
      "execution_count": 11,
      "metadata": {
        "colab": {
          "base_uri": "https://localhost:8080/"
        },
        "id": "2lTPjZnVNF4s",
        "outputId": "3092310a-734d-4c55-c31e-5b24905453f0"
      },
      "outputs": [
        {
          "data": {
            "text/plain": [
              "((193573, 9), (193573, 1))"
            ]
          },
          "execution_count": 11,
          "metadata": {},
          "output_type": "execute_result"
        }
      ],
      "source": [
        "X.shape, y.shape"
      ]
    },
    {
      "cell_type": "code",
      "execution_count": 12,
      "metadata": {
        "colab": {
          "base_uri": "https://localhost:8080/"
        },
        "id": "hbsSs32mNF7a",
        "outputId": "afd13556-6d04-4b33-f0c6-d833f01eadc4"
      },
      "outputs": [
        {
          "name": "stdout",
          "output_type": "stream",
          "text": [
            "Categorical Features:  Index(['cut', 'color', 'clarity'], dtype='object')\n",
            "Numerical Features:  Index(['carat', 'depth', 'table', 'x', 'y', 'z'], dtype='object')\n"
          ]
        }
      ],
      "source": [
        "#Separate categorical features and numerical features\n",
        "categorical_columns= X.dtypes[X.dtypes=='object'].index\n",
        "numerical_columns= X.dtypes[X.dtypes!='object'].index\n",
        "\n",
        "print(\"Categorical Features: \", categorical_columns)\n",
        "print(\"Numerical Features: \", numerical_columns)"
      ]
    },
    {
      "cell_type": "code",
      "execution_count": 13,
      "metadata": {
        "colab": {
          "base_uri": "https://localhost:8080/"
        },
        "id": "4xtR_rJzSV-7",
        "outputId": "d385eb91-bf7d-44e2-d84a-c4d402512a0c"
      },
      "outputs": [
        {
          "name": "stdout",
          "output_type": "stream",
          "text": [
            "cut ['Premium' 'Very Good' 'Ideal' 'Good' 'Fair']\n",
            "=========================\n",
            "color ['F' 'J' 'G' 'E' 'D' 'H' 'I']\n",
            "=========================\n",
            "clarity ['VS2' 'SI2' 'VS1' 'SI1' 'IF' 'VVS2' 'VVS1' 'I1']\n",
            "=========================\n"
          ]
        }
      ],
      "source": [
        "#Unique values in categorical features\n",
        "for col in categorical_columns:\n",
        "  print(col, df[col].unique())\n",
        "  print(\"=\"*25)"
      ]
    },
    {
      "cell_type": "code",
      "execution_count": 14,
      "metadata": {
        "id": "_7bic0rONF-R"
      },
      "outputs": [],
      "source": [
        "#Define custom ranking for each ordinal variable\n",
        "cut_categories= ['Fair', 'Good', \"Very Good\", 'Premium', 'Ideal']\n",
        "color_categories= ['D', 'E', 'F', 'G', 'H', 'I', 'J']\n",
        "clarity_categories= ['I1', 'SI2', 'SI1', 'VS2', 'VS1', 'VVS2', 'VVS1', 'IF']"
      ]
    },
    {
      "cell_type": "code",
      "execution_count": 15,
      "metadata": {
        "id": "nE_3B1MhNGC-"
      },
      "outputs": [],
      "source": [
        "#Numerical pipeline\n",
        "num_pipeline= Pipeline(\n",
        "    steps= [\n",
        "       ('imputer', SimpleImputer(strategy= 'median')),\n",
        "       ('scaler', StandardScaler()) \n",
        "    ]\n",
        ")\n",
        "\n",
        "\n",
        "#Categorical Pipeline\n",
        "cat_pipeline= Pipeline(\n",
        "    steps= [\n",
        "        ('imputer', SimpleImputer(strategy= 'most_frequent')),\n",
        "        ('ordinalencoder', OrdinalEncoder(categories= [cut_categories, color_categories, clarity_categories])),\n",
        "        ('scaler', StandardScaler())\n",
        "    ]\n",
        ")\n",
        "\n",
        "preprocessor= ColumnTransformer([\n",
        "    ('num_pipeline', num_pipeline, numerical_columns),\n",
        "    ('cat_pipeline', cat_pipeline, categorical_columns)\n",
        "])"
      ]
    },
    {
      "cell_type": "code",
      "execution_count": 16,
      "metadata": {
        "id": "t8--R-u_NGGB"
      },
      "outputs": [],
      "source": [
        "#Train-test split\n",
        "from sklearn.model_selection import train_test_split\n",
        "x_train, x_test, y_train, y_test= train_test_split(X,y, test_size= 0.3, random_state= 42)"
      ]
    },
    {
      "cell_type": "code",
      "execution_count": 17,
      "metadata": {
        "colab": {
          "base_uri": "https://localhost:8080/"
        },
        "id": "Ir1Hi_EONGJq",
        "outputId": "a4bcb086-8d3c-4024-c3ca-df121aaaf128"
      },
      "outputs": [
        {
          "data": {
            "text/plain": [
              "((135501, 9), (58072, 9))"
            ]
          },
          "execution_count": 17,
          "metadata": {},
          "output_type": "execute_result"
        }
      ],
      "source": [
        "x_train.shape, x_test.shape"
      ]
    },
    {
      "cell_type": "code",
      "execution_count": 18,
      "metadata": {
        "colab": {
          "base_uri": "https://localhost:8080/"
        },
        "id": "13MmQ44fNGM9",
        "outputId": "05a544be-34b2-44ca-809a-db48a3d667f9"
      },
      "outputs": [
        {
          "data": {
            "text/plain": [
              "((135501, 1), (58072, 1))"
            ]
          },
          "execution_count": 18,
          "metadata": {},
          "output_type": "execute_result"
        }
      ],
      "source": [
        "y_train.shape, y_test.shape"
      ]
    },
    {
      "cell_type": "code",
      "execution_count": 19,
      "metadata": {
        "id": "XO2RA90bNGUa"
      },
      "outputs": [],
      "source": [
        "#Transforming dataset\n",
        "x_train= pd.DataFrame(preprocessor.fit_transform(x_train), columns= preprocessor.get_feature_names_out())\n",
        "x_test= pd.DataFrame(preprocessor.transform(x_test), columns= preprocessor.get_feature_names_out())"
      ]
    },
    {
      "cell_type": "code",
      "execution_count": 20,
      "metadata": {
        "colab": {
          "base_uri": "https://localhost:8080/",
          "height": 270
        },
        "id": "j7hVxh9mNGXp",
        "outputId": "ad6b23c4-ddbf-494c-b46b-f41685fe215c"
      },
      "outputs": [
        {
          "data": {
            "text/html": [
              "<div>\n",
              "<style scoped>\n",
              "    .dataframe tbody tr th:only-of-type {\n",
              "        vertical-align: middle;\n",
              "    }\n",
              "\n",
              "    .dataframe tbody tr th {\n",
              "        vertical-align: top;\n",
              "    }\n",
              "\n",
              "    .dataframe thead th {\n",
              "        text-align: right;\n",
              "    }\n",
              "</style>\n",
              "<table border=\"1\" class=\"dataframe\">\n",
              "  <thead>\n",
              "    <tr style=\"text-align: right;\">\n",
              "      <th></th>\n",
              "      <th>num_pipeline__carat</th>\n",
              "      <th>num_pipeline__depth</th>\n",
              "      <th>num_pipeline__table</th>\n",
              "      <th>num_pipeline__x</th>\n",
              "      <th>num_pipeline__y</th>\n",
              "      <th>num_pipeline__z</th>\n",
              "      <th>cat_pipeline__cut</th>\n",
              "      <th>cat_pipeline__color</th>\n",
              "      <th>cat_pipeline__clarity</th>\n",
              "    </tr>\n",
              "  </thead>\n",
              "  <tbody>\n",
              "    <tr>\n",
              "      <th>0</th>\n",
              "      <td>-0.823144</td>\n",
              "      <td>-1.129988</td>\n",
              "      <td>-0.641897</td>\n",
              "      <td>-0.780451</td>\n",
              "      <td>-0.835103</td>\n",
              "      <td>-0.876024</td>\n",
              "      <td>0.874100</td>\n",
              "      <td>-0.936747</td>\n",
              "      <td>1.350746</td>\n",
              "    </tr>\n",
              "    <tr>\n",
              "      <th>1</th>\n",
              "      <td>0.945023</td>\n",
              "      <td>-1.777823</td>\n",
              "      <td>0.921902</td>\n",
              "      <td>1.073226</td>\n",
              "      <td>1.166389</td>\n",
              "      <td>0.946633</td>\n",
              "      <td>-1.137644</td>\n",
              "      <td>0.910853</td>\n",
              "      <td>0.684455</td>\n",
              "    </tr>\n",
              "    <tr>\n",
              "      <th>2</th>\n",
              "      <td>1.958484</td>\n",
              "      <td>0.165682</td>\n",
              "      <td>0.400636</td>\n",
              "      <td>1.703116</td>\n",
              "      <td>1.755063</td>\n",
              "      <td>1.742237</td>\n",
              "      <td>-0.131772</td>\n",
              "      <td>0.910853</td>\n",
              "      <td>0.018164</td>\n",
              "    </tr>\n",
              "    <tr>\n",
              "      <th>3</th>\n",
              "      <td>-0.995648</td>\n",
              "      <td>-0.574701</td>\n",
              "      <td>-0.641897</td>\n",
              "      <td>-1.122391</td>\n",
              "      <td>-1.161138</td>\n",
              "      <td>-1.165334</td>\n",
              "      <td>0.874100</td>\n",
              "      <td>-0.320880</td>\n",
              "      <td>2.017037</td>\n",
              "    </tr>\n",
              "    <tr>\n",
              "      <th>4</th>\n",
              "      <td>-0.995648</td>\n",
              "      <td>0.258230</td>\n",
              "      <td>0.400636</td>\n",
              "      <td>-1.176382</td>\n",
              "      <td>-1.152082</td>\n",
              "      <td>-1.136403</td>\n",
              "      <td>-1.137644</td>\n",
              "      <td>1.526720</td>\n",
              "      <td>-0.648127</td>\n",
              "    </tr>\n",
              "  </tbody>\n",
              "</table>\n",
              "</div>"
            ],
            "text/plain": [
              "   num_pipeline__carat  num_pipeline__depth  num_pipeline__table   \n",
              "0            -0.823144            -1.129988            -0.641897  \\\n",
              "1             0.945023            -1.777823             0.921902   \n",
              "2             1.958484             0.165682             0.400636   \n",
              "3            -0.995648            -0.574701            -0.641897   \n",
              "4            -0.995648             0.258230             0.400636   \n",
              "\n",
              "   num_pipeline__x  num_pipeline__y  num_pipeline__z  cat_pipeline__cut   \n",
              "0        -0.780451        -0.835103        -0.876024           0.874100  \\\n",
              "1         1.073226         1.166389         0.946633          -1.137644   \n",
              "2         1.703116         1.755063         1.742237          -0.131772   \n",
              "3        -1.122391        -1.161138        -1.165334           0.874100   \n",
              "4        -1.176382        -1.152082        -1.136403          -1.137644   \n",
              "\n",
              "   cat_pipeline__color  cat_pipeline__clarity  \n",
              "0            -0.936747               1.350746  \n",
              "1             0.910853               0.684455  \n",
              "2             0.910853               0.018164  \n",
              "3            -0.320880               2.017037  \n",
              "4             1.526720              -0.648127  "
            ]
          },
          "execution_count": 20,
          "metadata": {},
          "output_type": "execute_result"
        }
      ],
      "source": [
        "x_train.head()"
      ]
    },
    {
      "cell_type": "code",
      "execution_count": 21,
      "metadata": {
        "colab": {
          "base_uri": "https://localhost:8080/",
          "height": 270
        },
        "id": "FUg-abXdNGbm",
        "outputId": "c1a88695-3fdd-41e7-a0b8-06269cffc728"
      },
      "outputs": [
        {
          "data": {
            "text/html": [
              "<div>\n",
              "<style scoped>\n",
              "    .dataframe tbody tr th:only-of-type {\n",
              "        vertical-align: middle;\n",
              "    }\n",
              "\n",
              "    .dataframe tbody tr th {\n",
              "        vertical-align: top;\n",
              "    }\n",
              "\n",
              "    .dataframe thead th {\n",
              "        text-align: right;\n",
              "    }\n",
              "</style>\n",
              "<table border=\"1\" class=\"dataframe\">\n",
              "  <thead>\n",
              "    <tr style=\"text-align: right;\">\n",
              "      <th></th>\n",
              "      <th>num_pipeline__carat</th>\n",
              "      <th>num_pipeline__depth</th>\n",
              "      <th>num_pipeline__table</th>\n",
              "      <th>num_pipeline__x</th>\n",
              "      <th>num_pipeline__y</th>\n",
              "      <th>num_pipeline__z</th>\n",
              "      <th>cat_pipeline__cut</th>\n",
              "      <th>cat_pipeline__color</th>\n",
              "      <th>cat_pipeline__clarity</th>\n",
              "    </tr>\n",
              "  </thead>\n",
              "  <tbody>\n",
              "    <tr>\n",
              "      <th>0</th>\n",
              "      <td>-0.629077</td>\n",
              "      <td>0.258230</td>\n",
              "      <td>-0.120630</td>\n",
              "      <td>-0.600482</td>\n",
              "      <td>-0.581521</td>\n",
              "      <td>-0.572248</td>\n",
              "      <td>0.874100</td>\n",
              "      <td>-1.552614</td>\n",
              "      <td>-0.648127</td>\n",
              "    </tr>\n",
              "    <tr>\n",
              "      <th>1</th>\n",
              "      <td>2.605374</td>\n",
              "      <td>-2.148014</td>\n",
              "      <td>-0.120630</td>\n",
              "      <td>2.126042</td>\n",
              "      <td>2.198832</td>\n",
              "      <td>1.959219</td>\n",
              "      <td>-1.137644</td>\n",
              "      <td>0.294987</td>\n",
              "      <td>-1.314417</td>\n",
              "    </tr>\n",
              "    <tr>\n",
              "      <th>2</th>\n",
              "      <td>-1.125026</td>\n",
              "      <td>-1.222536</td>\n",
              "      <td>0.921902</td>\n",
              "      <td>-1.374347</td>\n",
              "      <td>-1.414721</td>\n",
              "      <td>-1.469110</td>\n",
              "      <td>-0.131772</td>\n",
              "      <td>-0.936747</td>\n",
              "      <td>2.017037</td>\n",
              "    </tr>\n",
              "    <tr>\n",
              "      <th>3</th>\n",
              "      <td>-1.017211</td>\n",
              "      <td>-0.574701</td>\n",
              "      <td>0.921902</td>\n",
              "      <td>-1.158385</td>\n",
              "      <td>-1.161138</td>\n",
              "      <td>-1.194265</td>\n",
              "      <td>-0.131772</td>\n",
              "      <td>1.526720</td>\n",
              "      <td>2.017037</td>\n",
              "    </tr>\n",
              "    <tr>\n",
              "      <th>4</th>\n",
              "      <td>0.858771</td>\n",
              "      <td>0.628421</td>\n",
              "      <td>-0.641897</td>\n",
              "      <td>0.947248</td>\n",
              "      <td>0.985258</td>\n",
              "      <td>1.004495</td>\n",
              "      <td>0.874100</td>\n",
              "      <td>0.910853</td>\n",
              "      <td>-0.648127</td>\n",
              "    </tr>\n",
              "  </tbody>\n",
              "</table>\n",
              "</div>"
            ],
            "text/plain": [
              "   num_pipeline__carat  num_pipeline__depth  num_pipeline__table   \n",
              "0            -0.629077             0.258230            -0.120630  \\\n",
              "1             2.605374            -2.148014            -0.120630   \n",
              "2            -1.125026            -1.222536             0.921902   \n",
              "3            -1.017211            -0.574701             0.921902   \n",
              "4             0.858771             0.628421            -0.641897   \n",
              "\n",
              "   num_pipeline__x  num_pipeline__y  num_pipeline__z  cat_pipeline__cut   \n",
              "0        -0.600482        -0.581521        -0.572248           0.874100  \\\n",
              "1         2.126042         2.198832         1.959219          -1.137644   \n",
              "2        -1.374347        -1.414721        -1.469110          -0.131772   \n",
              "3        -1.158385        -1.161138        -1.194265          -0.131772   \n",
              "4         0.947248         0.985258         1.004495           0.874100   \n",
              "\n",
              "   cat_pipeline__color  cat_pipeline__clarity  \n",
              "0            -1.552614              -0.648127  \n",
              "1             0.294987              -1.314417  \n",
              "2            -0.936747               2.017037  \n",
              "3             1.526720               2.017037  \n",
              "4             0.910853              -0.648127  "
            ]
          },
          "execution_count": 21,
          "metadata": {},
          "output_type": "execute_result"
        }
      ],
      "source": [
        "x_test.head()"
      ]
    },
    {
      "cell_type": "code",
      "execution_count": null,
      "metadata": {
        "id": "d82ESki5NGff"
      },
      "outputs": [],
      "source": []
    },
    {
      "attachments": {},
      "cell_type": "markdown",
      "metadata": {},
      "source": [
        "### Model Training "
      ]
    },
    {
      "cell_type": "code",
      "execution_count": 22,
      "metadata": {
        "id": "-9VM4aEFNGjO"
      },
      "outputs": [],
      "source": [
        "from sklearn.linear_model import LinearRegression, Ridge, Lasso, ElasticNet\n",
        "#Performance of the model\n",
        "from sklearn.metrics import mean_absolute_error, mean_squared_error, r2_score"
      ]
    },
    {
      "cell_type": "code",
      "execution_count": 23,
      "metadata": {
        "colab": {
          "base_uri": "https://localhost:8080/",
          "height": 74
        },
        "id": "w8cmUHa5NGor",
        "outputId": "04cba28f-5331-4108-8ba0-5f331c7b1dba"
      },
      "outputs": [
        {
          "data": {
            "text/html": [
              "<style>#sk-container-id-1 {color: black;background-color: white;}#sk-container-id-1 pre{padding: 0;}#sk-container-id-1 div.sk-toggleable {background-color: white;}#sk-container-id-1 label.sk-toggleable__label {cursor: pointer;display: block;width: 100%;margin-bottom: 0;padding: 0.3em;box-sizing: border-box;text-align: center;}#sk-container-id-1 label.sk-toggleable__label-arrow:before {content: \"▸\";float: left;margin-right: 0.25em;color: #696969;}#sk-container-id-1 label.sk-toggleable__label-arrow:hover:before {color: black;}#sk-container-id-1 div.sk-estimator:hover label.sk-toggleable__label-arrow:before {color: black;}#sk-container-id-1 div.sk-toggleable__content {max-height: 0;max-width: 0;overflow: hidden;text-align: left;background-color: #f0f8ff;}#sk-container-id-1 div.sk-toggleable__content pre {margin: 0.2em;color: black;border-radius: 0.25em;background-color: #f0f8ff;}#sk-container-id-1 input.sk-toggleable__control:checked~div.sk-toggleable__content {max-height: 200px;max-width: 100%;overflow: auto;}#sk-container-id-1 input.sk-toggleable__control:checked~label.sk-toggleable__label-arrow:before {content: \"▾\";}#sk-container-id-1 div.sk-estimator input.sk-toggleable__control:checked~label.sk-toggleable__label {background-color: #d4ebff;}#sk-container-id-1 div.sk-label input.sk-toggleable__control:checked~label.sk-toggleable__label {background-color: #d4ebff;}#sk-container-id-1 input.sk-hidden--visually {border: 0;clip: rect(1px 1px 1px 1px);clip: rect(1px, 1px, 1px, 1px);height: 1px;margin: -1px;overflow: hidden;padding: 0;position: absolute;width: 1px;}#sk-container-id-1 div.sk-estimator {font-family: monospace;background-color: #f0f8ff;border: 1px dotted black;border-radius: 0.25em;box-sizing: border-box;margin-bottom: 0.5em;}#sk-container-id-1 div.sk-estimator:hover {background-color: #d4ebff;}#sk-container-id-1 div.sk-parallel-item::after {content: \"\";width: 100%;border-bottom: 1px solid gray;flex-grow: 1;}#sk-container-id-1 div.sk-label:hover label.sk-toggleable__label {background-color: #d4ebff;}#sk-container-id-1 div.sk-serial::before {content: \"\";position: absolute;border-left: 1px solid gray;box-sizing: border-box;top: 0;bottom: 0;left: 50%;z-index: 0;}#sk-container-id-1 div.sk-serial {display: flex;flex-direction: column;align-items: center;background-color: white;padding-right: 0.2em;padding-left: 0.2em;position: relative;}#sk-container-id-1 div.sk-item {position: relative;z-index: 1;}#sk-container-id-1 div.sk-parallel {display: flex;align-items: stretch;justify-content: center;background-color: white;position: relative;}#sk-container-id-1 div.sk-item::before, #sk-container-id-1 div.sk-parallel-item::before {content: \"\";position: absolute;border-left: 1px solid gray;box-sizing: border-box;top: 0;bottom: 0;left: 50%;z-index: -1;}#sk-container-id-1 div.sk-parallel-item {display: flex;flex-direction: column;z-index: 1;position: relative;background-color: white;}#sk-container-id-1 div.sk-parallel-item:first-child::after {align-self: flex-end;width: 50%;}#sk-container-id-1 div.sk-parallel-item:last-child::after {align-self: flex-start;width: 50%;}#sk-container-id-1 div.sk-parallel-item:only-child::after {width: 0;}#sk-container-id-1 div.sk-dashed-wrapped {border: 1px dashed gray;margin: 0 0.4em 0.5em 0.4em;box-sizing: border-box;padding-bottom: 0.4em;background-color: white;}#sk-container-id-1 div.sk-label label {font-family: monospace;font-weight: bold;display: inline-block;line-height: 1.2em;}#sk-container-id-1 div.sk-label-container {text-align: center;}#sk-container-id-1 div.sk-container {/* jupyter's `normalize.less` sets `[hidden] { display: none; }` but bootstrap.min.css set `[hidden] { display: none !important; }` so we also need the `!important` here to be able to override the default hidden behavior on the sphinx rendered scikit-learn.org. See: https://github.com/scikit-learn/scikit-learn/issues/21755 */display: inline-block !important;position: relative;}#sk-container-id-1 div.sk-text-repr-fallback {display: none;}</style><div id=\"sk-container-id-1\" class=\"sk-top-container\"><div class=\"sk-text-repr-fallback\"><pre>LinearRegression()</pre><b>In a Jupyter environment, please rerun this cell to show the HTML representation or trust the notebook. <br />On GitHub, the HTML representation is unable to render, please try loading this page with nbviewer.org.</b></div><div class=\"sk-container\" hidden><div class=\"sk-item\"><div class=\"sk-estimator sk-toggleable\"><input class=\"sk-toggleable__control sk-hidden--visually\" id=\"sk-estimator-id-1\" type=\"checkbox\" checked><label for=\"sk-estimator-id-1\" class=\"sk-toggleable__label sk-toggleable__label-arrow\">LinearRegression</label><div class=\"sk-toggleable__content\"><pre>LinearRegression()</pre></div></div></div></div></div>"
            ],
            "text/plain": [
              "LinearRegression()"
            ]
          },
          "execution_count": 23,
          "metadata": {},
          "output_type": "execute_result"
        }
      ],
      "source": [
        "reg= LinearRegression()\n",
        "#train the model \n",
        "reg.fit(x_train,y_train)"
      ]
    },
    {
      "cell_type": "code",
      "execution_count": 24,
      "metadata": {
        "colab": {
          "base_uri": "https://localhost:8080/"
        },
        "id": "eM7EurxbNGrx",
        "outputId": "feea3c1d-c194-4c36-bf0b-270195f77f3b"
      },
      "outputs": [
        {
          "data": {
            "text/plain": [
              "array([[ 1616.03275998],\n",
              "       [15104.13631181],\n",
              "       [ 1727.49228115],\n",
              "       ...,\n",
              "       [ 1878.27425152],\n",
              "       [ 6295.06951547],\n",
              "       [ 5976.94207688]])"
            ]
          },
          "execution_count": 24,
          "metadata": {},
          "output_type": "execute_result"
        }
      ],
      "source": [
        "#predict the model\n",
        "y_pred = reg.predict(x_test) \n",
        "y_pred"
      ]
    },
    {
      "cell_type": "code",
      "execution_count": 25,
      "metadata": {
        "colab": {
          "base_uri": "https://localhost:8080/"
        },
        "id": "Ac9WXpEgNGuo",
        "outputId": "aa8af468-f70b-4dfe-e9e8-941d7c6c89e0"
      },
      "outputs": [
        {
          "name": "stdout",
          "output_type": "stream",
          "text": [
            "[[ 6432.97591819  -132.34206204   -70.48787525 -1701.38593925\n",
            "   -494.17005097   -76.32351645    68.80035873  -464.67990411\n",
            "    652.10059539]]\n",
            "[3976.8787389]\n"
          ]
        }
      ],
      "source": [
        "#Coefficient and intercept\n",
        "print(reg.coef_)\n",
        "print(reg.intercept_)"
      ]
    },
    {
      "attachments": {},
      "cell_type": "markdown",
      "metadata": {},
      "source": [
        "### Create the function for evaluating metrics of the models"
      ]
    },
    {
      "cell_type": "code",
      "execution_count": 26,
      "metadata": {
        "id": "yH5sdC-DNGxR"
      },
      "outputs": [],
      "source": [
        "def evalute_models(true, predicted):\n",
        "  mae= mean_absolute_error(true, predicted)\n",
        "  mse = mean_squared_error(true, predicted)\n",
        "  rmse= np.sqrt(mean_squared_error(true, predicted))\n",
        "  score= r2_score(true, predicted)\n",
        "  return mae, rmse, score"
      ]
    },
    {
      "cell_type": "code",
      "execution_count": 27,
      "metadata": {
        "colab": {
          "base_uri": "https://localhost:8080/"
        },
        "id": "NIIvXC0vNG1l",
        "outputId": "28d8ee3e-bc70-4e3d-af13-0a77f88b4d06"
      },
      "outputs": [
        {
          "data": {
            "text/plain": [
              "(675.0758270067483, 1014.6296630375463, 0.9362906819996049)"
            ]
          },
          "execution_count": 27,
          "metadata": {},
          "output_type": "execute_result"
        }
      ],
      "source": [
        "evalute_models(y_test, y_pred)"
      ]
    },
    {
      "cell_type": "code",
      "execution_count": 31,
      "metadata": {
        "colab": {
          "base_uri": "https://localhost:8080/"
        },
        "id": "jyAeOiuWNG3s",
        "outputId": "e86d9043-6974-4440-8ff4-cd433f1215f3"
      },
      "outputs": [
        {
          "name": "stdout",
          "output_type": "stream",
          "text": [
            "Linear Regression\n",
            "Model Training Performance\n",
            "RMSE:  101462.96630375463\n",
            "MAE:  67507.58270067483\n",
            "R2 Score:  93.62906819996049\n",
            "==============================\n",
            "Ridge\n",
            "Model Training Performance\n",
            "RMSE:  101463.43233534414\n",
            "MAE:  67510.77629781366\n",
            "R2 Score:  93.6290096749163\n",
            "==============================\n",
            "Lasso\n",
            "Model Training Performance\n",
            "RMSE:  101465.91302750638\n",
            "MAE:  67624.2117366551\n",
            "R2 Score:  93.62869814082755\n",
            "==============================\n",
            "ElasticNet\n",
            "Model Training Performance\n",
            "RMSE:  153335.41245902312\n",
            "MAE:  106094.32977143009\n",
            "R2 Score:  85.44967219374031\n",
            "==============================\n"
          ]
        }
      ],
      "source": [
        "#Training multiple models\n",
        "\n",
        "models= {\n",
        "    \"Linear Regression\": LinearRegression(),\n",
        "    \"Ridge\": Ridge(),\n",
        "    \"Lasso\": Lasso(),\n",
        "    \"ElasticNet\": ElasticNet()\n",
        "}\n",
        "\n",
        "model_list= []\n",
        "r2_score_list= []\n",
        "\n",
        "for i in range(len(list(models))):\n",
        "  model= list(models.values())[i]\n",
        "  #Train the model\n",
        "  model.fit(x_train, y_train)\n",
        "  #Make Prediction\n",
        "  y_predict = model.predict(x_test)\n",
        "  \n",
        "  mae, rmse, score= evalute_models(y_test, y_predict)\n",
        "  print(list(models.keys())[i])\n",
        "\n",
        "  model_list.append(list(models.keys())[i])\n",
        "  r2_score_list.append(score)\n",
        "\n",
        "  print(\"Model Training Performance\")\n",
        "  print(\"RMSE: \", rmse*100)\n",
        "  print(\"MAE: \", mae*100)\n",
        "  print(\"R2 Score: \", score*100)\n",
        "  print(\"=\"*30)"
      ]
    },
    {
      "cell_type": "code",
      "execution_count": 32,
      "metadata": {
        "colab": {
          "base_uri": "https://localhost:8080/"
        },
        "id": "Zo2x-JjmNHAw",
        "outputId": "ba0d93f7-a500-448b-fc31-3b002d0b233c"
      },
      "outputs": [
        {
          "data": {
            "text/plain": [
              "['Linear Regression', 'Ridge', 'Lasso', 'ElasticNet']"
            ]
          },
          "execution_count": 32,
          "metadata": {},
          "output_type": "execute_result"
        }
      ],
      "source": [
        "model_list"
      ]
    },
    {
      "cell_type": "code",
      "execution_count": 34,
      "metadata": {
        "id": "DfxRvDjYNHrz"
      },
      "outputs": [
        {
          "data": {
            "text/html": [
              "<div>\n",
              "<style scoped>\n",
              "    .dataframe tbody tr th:only-of-type {\n",
              "        vertical-align: middle;\n",
              "    }\n",
              "\n",
              "    .dataframe tbody tr th {\n",
              "        vertical-align: top;\n",
              "    }\n",
              "\n",
              "    .dataframe thead th {\n",
              "        text-align: right;\n",
              "    }\n",
              "</style>\n",
              "<table border=\"1\" class=\"dataframe\">\n",
              "  <thead>\n",
              "    <tr style=\"text-align: right;\">\n",
              "      <th></th>\n",
              "      <th>Model_Name</th>\n",
              "      <th>Scores</th>\n",
              "    </tr>\n",
              "  </thead>\n",
              "  <tbody>\n",
              "    <tr>\n",
              "      <th>0</th>\n",
              "      <td>Linear Regression</td>\n",
              "      <td>0.936291</td>\n",
              "    </tr>\n",
              "    <tr>\n",
              "      <th>1</th>\n",
              "      <td>Ridge</td>\n",
              "      <td>0.936290</td>\n",
              "    </tr>\n",
              "    <tr>\n",
              "      <th>2</th>\n",
              "      <td>Lasso</td>\n",
              "      <td>0.936287</td>\n",
              "    </tr>\n",
              "    <tr>\n",
              "      <th>3</th>\n",
              "      <td>ElasticNet</td>\n",
              "      <td>0.854497</td>\n",
              "    </tr>\n",
              "  </tbody>\n",
              "</table>\n",
              "</div>"
            ],
            "text/plain": [
              "          Model_Name    Scores\n",
              "0  Linear Regression  0.936291\n",
              "1              Ridge  0.936290\n",
              "2              Lasso  0.936287\n",
              "3         ElasticNet  0.854497"
            ]
          },
          "execution_count": 34,
          "metadata": {},
          "output_type": "execute_result"
        }
      ],
      "source": [
        "## Results\n",
        "pd.DataFrame({'Model_Name': model_list, \"Scores\": r2_score_list}).sort_values(by='Scores', ascending= False)"
      ]
    },
    {
      "cell_type": "code",
      "execution_count": null,
      "metadata": {
        "id": "sJ7TslB0NHvE"
      },
      "outputs": [],
      "source": []
    },
    {
      "cell_type": "code",
      "execution_count": null,
      "metadata": {},
      "outputs": [],
      "source": []
    }
  ],
  "metadata": {
    "colab": {
      "provenance": []
    },
    "kernelspec": {
      "display_name": "Python 3",
      "name": "python3"
    },
    "language_info": {
      "codemirror_mode": {
        "name": "ipython",
        "version": 3
      },
      "file_extension": ".py",
      "mimetype": "text/x-python",
      "name": "python",
      "nbconvert_exporter": "python",
      "pygments_lexer": "ipython3",
      "version": "3.8.0"
    }
  },
  "nbformat": 4,
  "nbformat_minor": 0
}
